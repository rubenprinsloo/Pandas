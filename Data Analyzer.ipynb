{
  "nbformat": 4,
  "nbformat_minor": 0,
  "metadata": {
    "colab": {
      "name": "Untitled",
      "provenance": [],
      "authorship_tag": "ABX9TyNddbbUplwf3hDCHRaBSTJ9",
      "include_colab_link": true
    },
    "kernelspec": {
      "name": "python3",
      "display_name": "Python 3"
    },
    "language_info": {
      "name": "python"
    }
  },
  "cells": [
    {
      "cell_type": "markdown",
      "metadata": {
        "id": "view-in-github",
        "colab_type": "text"
      },
      "source": [
        "<a href=\"https://colab.research.google.com/github/rubenprinsloo/Pandas/blob/master/Data%20Analyzer.ipynb\" target=\"_parent\"><img src=\"https://colab.research.google.com/assets/colab-badge.svg\" alt=\"Open In Colab\"/></a>"
      ]
    },
    {
      "cell_type": "code",
      "execution_count": 1,
      "metadata": {
        "id": "Ap7iAMesK4y2"
      },
      "outputs": [],
      "source": [
        "import pandas as pd"
      ]
    },
    {
      "cell_type": "code",
      "source": [
        "df = pd.read_csv('/adult.data.csv')"
      ],
      "metadata": {
        "id": "TjV_9pf-MXiM"
      },
      "execution_count": 2,
      "outputs": []
    },
    {
      "cell_type": "markdown",
      "source": [
        "How many people of each race are represented in this dataset? This should be a Pandas series with race names as the index labels"
      ],
      "metadata": {
        "id": "kTmc-U4JNgOW"
      }
    },
    {
      "cell_type": "code",
      "source": [
        "race_count = pd.DataFrame([[sum(df['race'] == 'White')],[sum(df['race'] == 'Black')],[sum(df['race'] == 'Asian-Pac-Islander')],[sum(df['race'] == 'Amer-Indian-Eskimo')],[sum(df['race'] == 'Other')]], columns=['Number of each race'])"
      ],
      "metadata": {
        "id": "u8JMQwMhMa3-"
      },
      "execution_count": 5,
      "outputs": []
    },
    {
      "cell_type": "code",
      "source": [
        " race_count.index = ['White', 'Black', 'Asian-Pac-Islander', 'Amer-Indian-Eskimo', 'Other']"
      ],
      "metadata": {
        "id": "dSs4uPSrNQVV"
      },
      "execution_count": 6,
      "outputs": []
    },
    {
      "cell_type": "code",
      "source": [
        "print(\"Number of each race:\\n\", race_count)"
      ],
      "metadata": {
        "colab": {
          "base_uri": "https://localhost:8080/"
        },
        "id": "irHSnhf7NYMN",
        "outputId": "f3aedf1d-74af-41e6-d2e1-ccae04dc1c52"
      },
      "execution_count": 7,
      "outputs": [
        {
          "output_type": "stream",
          "name": "stdout",
          "text": [
            "Number of each race:\n",
            "                     Number of each race\n",
            "White                             27816\n",
            "Black                              3124\n",
            "Asian-Pac-Islander                 1039\n",
            "Amer-Indian-Eskimo                  311\n",
            "Other                               271\n"
          ]
        }
      ]
    },
    {
      "cell_type": "markdown",
      "source": [
        "What is the average age of men?"
      ],
      "metadata": {
        "id": "dd2zbr9WNnQO"
      }
    },
    {
      "cell_type": "code",
      "source": [
        "Males = df[df['sex'] == 'Male']"
      ],
      "metadata": {
        "id": "c2EaIKXPNwR7"
      },
      "execution_count": 8,
      "outputs": []
    },
    {
      "cell_type": "code",
      "source": [
        "average_age_men = round(Males['age'].mean(), 1)"
      ],
      "metadata": {
        "id": "A5b71cjyNujV"
      },
      "execution_count": 9,
      "outputs": []
    },
    {
      "cell_type": "code",
      "source": [
        "print(\"Average age of men:\", average_age_men)"
      ],
      "metadata": {
        "colab": {
          "base_uri": "https://localhost:8080/"
        },
        "id": "BMsGORncN0el",
        "outputId": "843823cf-87ab-48a9-8d84-e1435978741a"
      },
      "execution_count": 10,
      "outputs": [
        {
          "output_type": "stream",
          "name": "stdout",
          "text": [
            "Average age of men: 39.4\n"
          ]
        }
      ]
    },
    {
      "cell_type": "markdown",
      "source": [
        "What is the percentage of people who have a Bachelor's degree?"
      ],
      "metadata": {
        "id": "BlE_C16FN4hQ"
      }
    },
    {
      "cell_type": "code",
      "source": [
        "percentage_bachelors =  round(sum((df[\"education\"] == 'Bachelors')/len(df['education'])) * 100, 1)"
      ],
      "metadata": {
        "id": "VbrdgRjTN3CO"
      },
      "execution_count": 11,
      "outputs": []
    },
    {
      "cell_type": "code",
      "source": [
        "print(f\"Percentage with Bachelors degrees: {percentage_bachelors}%\")"
      ],
      "metadata": {
        "colab": {
          "base_uri": "https://localhost:8080/"
        },
        "id": "4RZV2OPIN_4F",
        "outputId": "b02cd0e5-de6e-4fcb-d7d5-a5fac582da65"
      },
      "execution_count": 12,
      "outputs": [
        {
          "output_type": "stream",
          "name": "stdout",
          "text": [
            "Percentage with Bachelors degrees: 16.4%\n"
          ]
        }
      ]
    },
    {
      "cell_type": "markdown",
      "source": [
        "What percentage of people with advanced education (Bachelors, Masters, or Doctorate) make more than 50K?"
      ],
      "metadata": {
        "id": "hsf_HcvNOEgw"
      }
    },
    {
      "cell_type": "code",
      "source": [
        "Higher_edu_df = df[(df['education'] == 'Bachelors') | (df['education'] == 'Masters') | (df['education'] == 'Doctorate')]"
      ],
      "metadata": {
        "id": "IFh-u-GmOCnX"
      },
      "execution_count": 13,
      "outputs": []
    },
    {
      "cell_type": "code",
      "source": [
        "Lower_edu_df = df[(df['education'] != 'Bachelors') & (df['education'] != 'Masters') & (df['education'] != 'Doctorate')]"
      ],
      "metadata": {
        "id": "CNTq7EieOLNd"
      },
      "execution_count": 14,
      "outputs": []
    },
    {
      "cell_type": "code",
      "source": [
        "higher_education = len(Higher_edu_df['education'])"
      ],
      "metadata": {
        "id": "ieyaSv-vOOlR"
      },
      "execution_count": 16,
      "outputs": []
    },
    {
      "cell_type": "code",
      "source": [
        "lower_education = len(Lower_edu_df['education'])"
      ],
      "metadata": {
        "id": "YBFaUcohOUNT"
      },
      "execution_count": 17,
      "outputs": []
    },
    {
      "cell_type": "code",
      "source": [
        "higher_education_rich = round(sum(Higher_edu_df['salary'] == '>50K')/len(Higher_edu_df['education']) * 100, 1)"
      ],
      "metadata": {
        "id": "Ri7MJ5BAOx0f"
      },
      "execution_count": 19,
      "outputs": []
    },
    {
      "cell_type": "code",
      "source": [
        "print(f\"Percentage with higher education that earn >50K: {higher_education_rich}%\")"
      ],
      "metadata": {
        "colab": {
          "base_uri": "https://localhost:8080/"
        },
        "id": "HpfAAbFaO6hq",
        "outputId": "2597491b-9ddb-4807-968a-cd03b518e4e1"
      },
      "execution_count": 20,
      "outputs": [
        {
          "output_type": "stream",
          "name": "stdout",
          "text": [
            "Percentage with higher education that earn >50K: 46.5%\n"
          ]
        }
      ]
    },
    {
      "cell_type": "markdown",
      "source": [
        "What percentage of people without advanced education make more than 50K?"
      ],
      "metadata": {
        "id": "ndpq40QHPKzr"
      }
    },
    {
      "cell_type": "code",
      "source": [
        "lower_education_rich = round(sum(Lower_edu_df['salary'] == '>50K')/len(Lower_edu_df['education']) * 100, 1)"
      ],
      "metadata": {
        "id": "pjTQAI9MO8aA"
      },
      "execution_count": 21,
      "outputs": []
    },
    {
      "cell_type": "code",
      "source": [
        "print(f\"Percentage without lower education that earn >50K: {lower_education_rich}%\")"
      ],
      "metadata": {
        "colab": {
          "base_uri": "https://localhost:8080/"
        },
        "id": "Ea8pcACZO-ZE",
        "outputId": "41d51262-23be-4c85-92a1-8fe73ed840f2"
      },
      "execution_count": 22,
      "outputs": [
        {
          "output_type": "stream",
          "name": "stdout",
          "text": [
            "Percentage without lower education that earn >50K: 17.4%\n"
          ]
        }
      ]
    },
    {
      "cell_type": "markdown",
      "source": [
        "What is the minimum number of hours a person works per week?"
      ],
      "metadata": {
        "id": "gJLiqluhPZTf"
      }
    },
    {
      "cell_type": "code",
      "source": [
        "min_work_hours = min(df['hours-per-week'])"
      ],
      "metadata": {
        "id": "sV6UDlxwO_5_"
      },
      "execution_count": 23,
      "outputs": []
    },
    {
      "cell_type": "code",
      "source": [
        "print(f\"Min work time: {min_work_hours} hours/week\")"
      ],
      "metadata": {
        "colab": {
          "base_uri": "https://localhost:8080/"
        },
        "id": "yHU3OAZRPbo3",
        "outputId": "4fc54681-3a7e-478a-dea1-5fd5561725f8"
      },
      "execution_count": 24,
      "outputs": [
        {
          "output_type": "stream",
          "name": "stdout",
          "text": [
            "Min work time: 1 hours/week\n"
          ]
        }
      ]
    },
    {
      "cell_type": "markdown",
      "source": [
        "What percentage of the people who work the minimum number of hours per week have a salary of more than 50K?"
      ],
      "metadata": {
        "id": "1xjzPcwMPfGo"
      }
    },
    {
      "cell_type": "code",
      "source": [
        "min_time = df[df['hours-per-week'] == 1]"
      ],
      "metadata": {
        "id": "KafbMwpJPdTJ"
      },
      "execution_count": 25,
      "outputs": []
    },
    {
      "cell_type": "code",
      "source": [
        "num_min_workers = len(min_time['hours-per-week'])"
      ],
      "metadata": {
        "id": "BEVDgin4Pkbc"
      },
      "execution_count": 26,
      "outputs": []
    },
    {
      "cell_type": "code",
      "source": [
        "rich_percentage = round(sum(min_time['salary'] == '>50K')/len(min_time['hours-per-week'])*100, 2)"
      ],
      "metadata": {
        "id": "pw-3QMWdPm5q"
      },
      "execution_count": 27,
      "outputs": []
    },
    {
      "cell_type": "code",
      "source": [
        "print(f\"Percentage of rich among those who work fewest hours: {rich_percentage}%\")"
      ],
      "metadata": {
        "colab": {
          "base_uri": "https://localhost:8080/"
        },
        "id": "YcF_7G2bPpjF",
        "outputId": "be141721-533f-4f9c-ec91-7c35e3737186"
      },
      "execution_count": 28,
      "outputs": [
        {
          "output_type": "stream",
          "name": "stdout",
          "text": [
            "Percentage of rich among those who work fewest hours: 10.0%\n"
          ]
        }
      ]
    },
    {
      "cell_type": "markdown",
      "source": [
        "What country has the highest percentage of people that earn >50K and what is that percentage?"
      ],
      "metadata": {
        "id": "LNlgTSCMPvI3"
      }
    },
    {
      "cell_type": "code",
      "source": [
        "highest_country = (\n",
        "        df[[\"salary\", \"native-country\"]]\n",
        "        .groupby(\"native-country\")\n",
        "        .apply(lambda g: g.loc[g[\"salary\"] == \">50K\"].size / g.size * 100)\n",
        "    )"
      ],
      "metadata": {
        "id": "tGDxxi1bQUgf"
      },
      "execution_count": 37,
      "outputs": []
    },
    {
      "cell_type": "code",
      "source": [
        "highest_earning_country = highest_country.idxmax()"
      ],
      "metadata": {
        "id": "HqGzm_IpPrmR"
      },
      "execution_count": 38,
      "outputs": []
    },
    {
      "cell_type": "code",
      "source": [
        "print(f\"Highest earning country: {highest_earning_country}\")"
      ],
      "metadata": {
        "colab": {
          "base_uri": "https://localhost:8080/"
        },
        "id": "G_EhOnDIPzfs",
        "outputId": "493fbaaa-41a2-47e8-81b1-68a11092ab1a"
      },
      "execution_count": 40,
      "outputs": [
        {
          "output_type": "stream",
          "name": "stdout",
          "text": [
            "Highest earning country: Iran\n"
          ]
        }
      ]
    },
    {
      "cell_type": "code",
      "source": [
        "highest_earning_country_percentage = round(highest_country.max(), 1)"
      ],
      "metadata": {
        "id": "-4LViZj_Tsvk"
      },
      "execution_count": 41,
      "outputs": []
    },
    {
      "cell_type": "code",
      "source": [
        "print(f\"Highest earning country percentage: {highest_earning_country_percentage}\")"
      ],
      "metadata": {
        "colab": {
          "base_uri": "https://localhost:8080/"
        },
        "id": "ImymYZlUTxmC",
        "outputId": "3a9dadf1-425a-466d-fe71-974563089b35"
      },
      "execution_count": 42,
      "outputs": [
        {
          "output_type": "stream",
          "name": "stdout",
          "text": [
            "Highest earning country percentage: 41.9\n"
          ]
        }
      ]
    },
    {
      "cell_type": "code",
      "source": [
        "top_IN_occupation = (\n",
        "        df.loc[(df[\"native-country\"] == \"India\") & (df[\"salary\"] == \">50K\")][\n",
        "            \"occupation\"\n",
        "        ]\n",
        "        .value_counts()\n",
        "        .idxmax()\n",
        "    )"
      ],
      "metadata": {
        "id": "-kr5DTDET7zy"
      },
      "execution_count": 43,
      "outputs": []
    },
    {
      "cell_type": "code",
      "source": [
        "print(f\"Most popular occupation for those who earn >50k in india is: {top_IN_occupation}\")"
      ],
      "metadata": {
        "colab": {
          "base_uri": "https://localhost:8080/"
        },
        "id": "xmr9K5oOU6J_",
        "outputId": "08d7e793-b53b-4fec-d35f-e67c8fb79135"
      },
      "execution_count": 44,
      "outputs": [
        {
          "output_type": "stream",
          "name": "stdout",
          "text": [
            "Most popular occupation for those who earn >50k in india is: Prof-specialty\n"
          ]
        }
      ]
    },
    {
      "cell_type": "code",
      "source": [
        ""
      ],
      "metadata": {
        "id": "vtgXgsM6VBs0"
      },
      "execution_count": null,
      "outputs": []
    }
  ]
}